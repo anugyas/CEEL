{
  "nbformat": 4,
  "nbformat_minor": 0,
  "metadata": {
    "colab": {
      "name": "Anugya SA",
      "provenance": []
    },
    "kernelspec": {
      "display_name": "Python 3",
      "name": "python3"
    },
    "language_info": {
      "name": "python"
    }
  },
  "cells": [
    {
      "cell_type": "code",
      "metadata": {
        "id": "im-VRP7rAiqu"
      },
      "source": [
        "! pip install lifelines\n",
        "import lifelines\n",
        "import pandas as pd\n",
        "import numpy as np\n",
        "import matplotlib.pyplot as plt\n",
        "from datetime import datetime\n",
        "from lifelines import CoxPHFitter"
      ],
      "execution_count": null,
      "outputs": []
    },
    {
      "cell_type": "code",
      "metadata": {
        "id": "kuV3RJvdBkxK"
      },
      "source": [
        "sepsis_all_df = pd.read_csv(\"/content/data_all.csv\")\n",
        "sepsis_all_df.info()\n",
        "sepsis_all_df.describe().to_csv(\"/content/data_summary.csv\")\n",
        "try :\n",
        "  sepsis_all_df.drop('time_to_death',  axis=1, inplace=True)\n",
        "except :\n",
        "  pass\n",
        "sepsis_all_df.insert(57, column=\"time_to_death\",value=None)\n",
        "sepsis_all_df_copy = sepsis_all_df.copy(deep=True)\n",
        "format = '%Y-%m-%d %H:%M:%S'\n",
        "for i in range(sepsis_all_df.shape[0]):\n",
        "  if sepsis_all_df[\"death_flag\"][i] == 1 and type(sepsis_all_df[\"death_time\"][i]) is str:\n",
        "    time_diff = datetime.strptime(sepsis_all_df[\"death_time\"][i],format) - datetime.strptime(sepsis_all_df[\"sofa_time\"][i],format)\n",
        "    time_diff_in_days = time_diff.total_seconds()/(360*24)\n",
        "    sepsis_all_df_copy[\"time_to_death\"][i] = time_diff_in_days\n",
        "    # print(row[\"time_to_death\"])\n",
        "  else:\n",
        "    time_diff = datetime.strptime(sepsis_all_df[\"dischtime\"][i],format) - datetime.strptime(sepsis_all_df[\"sofa_time\"][i],format)\n",
        "    time_diff_in_days = time_diff.total_seconds()/(360*24)\n",
        "    sepsis_all_df_copy[\"time_to_death\"][i] = time_diff_in_days\n",
        "    # print(row[\"time_to_death\"])\n",
        "  if sepsis_all_df[\"gender\"][i] == 'M':\n",
        "    sepsis_all_df_copy[\"gender\"][i] = 0\n",
        "  else:\n",
        "    sepsis_all_df_copy[\"gender\"][i] = 1\n",
        "sepsis_all_df_non_neg = sepsis_all_df_copy[sepsis_all_df_copy[\"time_to_death\"]>0]\n",
        "sepsis_all_df_non_neg.info()\n",
        "dropColList = [\"rn_charttime\",\n",
        "              \"rn_sofa_stay\",\n",
        "              \"sofa_time\", \n",
        "              \"charttime\", \n",
        "              \"antibiotic_time\", \n",
        "              \"culture_time\",\n",
        "              \"suspected_infection_time\",\n",
        "              \"death_time\",\n",
        "              \"subject_id\",\n",
        "              \"stay_id\",\n",
        "              \"admittime\",\n",
        "              \"dischtime\",\n",
        "              \"Unnamed: 0\",\n",
        "              \"Unnamed: 0.1\",\n",
        "              \"subject_id_1\",\n",
        "              \"stay_id_1\",\n",
        "              \"hadm_id\",\n",
        "              \"sepsis3\",\n",
        "              \"respiration\",\n",
        "              \"coagulation\",\n",
        "              \"cardiovascular\",\n",
        "              \"renal\",\n",
        "              \"cns\",\n",
        "              \"liver\",\n",
        "              \"mbp\",\n",
        "              \"ICULOS\",\n",
        "              \"los_hospital\"]\n",
        "\n",
        "for entry in dropColList:\n",
        "  sepsis_all_df_non_neg = sepsis_all_df_non_neg.drop(entry, axis=1)\n",
        "\n",
        "sepsis_all_df_non_neg.info()"
      ],
      "execution_count": null,
      "outputs": []
    },
    {
      "cell_type": "code",
      "metadata": {
        "id": "KmYUQuzpLXnF"
      },
      "source": [
        "sepsis_Y = sepsis_all_df_non_neg[\"time_to_death\"]\n",
        "sepsis_X = sepsis_all_df_non_neg.drop(\"time_to_death\", axis=1)\n",
        "sepsis_X.isna().sum()\n",
        "from sklearn.model_selection import train_test_split\n",
        "X_train, X_test, y_train, y_test = train_test_split( sepsis_X, sepsis_Y, test_size=0.20, random_state=42)\n",
        "trainData = [X_train, y_train]\n",
        "trainData = pd.concat(trainData, axis = 1)\n",
        "trainData.to_csv(\"/content/sepsisTrainData_19May.csv\")\n",
        "testData = [X_test, y_test]\n",
        "testData = pd.concat(testData, axis =1)\n",
        "testData.to_csv(\"/content/sepsisTestData_19May.csv\")"
      ],
      "execution_count": null,
      "outputs": []
    },
    {
      "cell_type": "code",
      "metadata": {
        "id": "CpWZlc4cMjV8"
      },
      "source": [
        "trainData.shape"
      ],
      "execution_count": null,
      "outputs": []
    },
    {
      "cell_type": "code",
      "metadata": {
        "id": "qe2cCDRCMrwE"
      },
      "source": [
        "testData.shape"
      ],
      "execution_count": null,
      "outputs": []
    },
    {
      "cell_type": "code",
      "metadata": {
        "id": "fVhisiT6MvZ2"
      },
      "source": [
        "testData.info()"
      ],
      "execution_count": null,
      "outputs": []
    },
    {
      "cell_type": "code",
      "metadata": {
        "id": "QMDu8_BvM6uS"
      },
      "source": [
        "trainData.info()"
      ],
      "execution_count": null,
      "outputs": []
    },
    {
      "cell_type": "code",
      "metadata": {
        "id": "gh7zEOySzQgV"
      },
      "source": [
        "trainData.corr()"
      ],
      "execution_count": null,
      "outputs": []
    },
    {
      "cell_type": "code",
      "metadata": {
        "id": "7KT2N1xgNgRT"
      },
      "source": [
        "cph = CoxPHFitter(l1_ratio=0.5)\n",
        "cph.fit(trainData, duration_col='time_to_death', event_col='death_flag',show_progress=True, step_size=0.1)\n",
        "cph.print_summary()"
      ],
      "execution_count": null,
      "outputs": []
    },
    {
      "cell_type": "code",
      "metadata": {
        "id": "FY_hmEZ1CiDt"
      },
      "source": [
        "cph.log_likelihood_"
      ],
      "execution_count": null,
      "outputs": []
    },
    {
      "cell_type": "code",
      "metadata": {
        "id": "tYf_VP2rCqZz"
      },
      "source": [
        "cph.variance_matrix_"
      ],
      "execution_count": null,
      "outputs": []
    },
    {
      "cell_type": "code",
      "metadata": {
        "id": "9gb8A1s-iHDU"
      },
      "source": [
        "cph.plot()"
      ],
      "execution_count": null,
      "outputs": []
    },
    {
      "cell_type": "code",
      "metadata": {
        "id": "zXZzLFbKFwRu"
      },
      "source": [
        "cph.params_"
      ],
      "execution_count": null,
      "outputs": []
    },
    {
      "cell_type": "code",
      "metadata": {
        "id": "Y69QtLxRFzpC"
      },
      "source": [
        "cph.baseline_hazard_"
      ],
      "execution_count": null,
      "outputs": []
    },
    {
      "cell_type": "code",
      "metadata": {
        "id": "Kno2vDvDhcTv"
      },
      "source": [
        "cph.log_likelihood_ratio_test()"
      ],
      "execution_count": null,
      "outputs": []
    },
    {
      "cell_type": "code",
      "metadata": {
        "id": "r39XH6IUhm4g"
      },
      "source": [
        "patient_data = pd.read_csv(\"/content/pat4.csv\")\n",
        "try_df_copy = patient_data.copy(deep=True)\n",
        "for i in range(patient_data.shape[0]):\n",
        "  if patient_data[\"gender\"][i] == 'M':\n",
        "    try_df_copy[\"gender\"][i] = 0\n",
        "  else:\n",
        "    try_df_copy[\"gender\"][i] = 1"
      ],
      "execution_count": null,
      "outputs": []
    },
    {
      "cell_type": "code",
      "metadata": {
        "id": "727eihjFO5MD"
      },
      "source": [
        "survival_df = cph.predict_survival_function(try_df_copy)\n",
        "survival_df.to_csv(\"pat4_survival.csv\")"
      ],
      "execution_count": 68,
      "outputs": []
    },
    {
      "cell_type": "code",
      "metadata": {
        "colab": {
          "base_uri": "https://localhost:8080/",
          "height": 265
        },
        "id": "Ygq2IlZ96g4G",
        "outputId": "62093f6a-7591-430c-d25c-1dcb30f280f0"
      },
      "source": [
        "updated_survival_df = pd.read_csv(\"/content/part2_survival_updated.csv\")\n",
        "x = []\n",
        "y_conf = []\n",
        "y_surr_sepsis = []\n",
        "y_surr_sofa = []\n",
        "for _, entry in updated_survival_df.iterrows():\n",
        "  x.append(entry[\"day\"])\n",
        "  y_conf.append(entry[\"confounder\"])\n",
        "  y_surr_sepsis.append(entry[\"surrogate_sepsis\"])\n",
        "  y_surr_sofa.append(entry[\"surrogate_sofa\"])\n",
        "\n",
        "\n",
        "plt.plot(x, y_conf, label = \"current state\")\n",
        "plt.plot(x, y_surr_sepsis, label = \"effect of surrogate_sepsis\")\n",
        "plt.plot(x, y_surr_sofa, label = \"effect of surrogate_sofa\")\n",
        "plt.legend()\n",
        "plt.show()"
      ],
      "execution_count": 72,
      "outputs": [
        {
          "output_type": "display_data",
          "data": {
            "image/png": "[encoded data removed]",
            "text/plain": [
              "<Figure size 432x288 with 1 Axes>"
            ]
          },
          "metadata": {
            "tags": [],
            "needs_background": "light"
          }
        }
      ]
    }
  ]
}