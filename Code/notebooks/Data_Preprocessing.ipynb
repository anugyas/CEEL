{
  "nbformat": 4,
  "nbformat_minor": 0,
  "metadata": {
    "colab": {
      "name": "Data Preprocessing",
      "provenance": []
    },
    "kernelspec": {
      "name": "python3",
      "display_name": "Python 3"
    },
    "language_info": {
      "name": "python"
    }
  },
  "cells": [
    {
      "cell_type": "code",
      "metadata": {
        "id": "HatV2P__pxSZ"
      },
      "source": [
        "import numpy as np\n",
        "import matplotlib.pyplot as plt # version > 3.0\n",
        "import pandas as pd\n",
        "from datetime import datetime\n",
        "from google.colab import drive\n",
        "import math\n",
        "plt.style.use('seaborn')"
      ],
      "execution_count": null,
      "outputs": []
    },
    {
      "cell_type": "code",
      "metadata": {
        "id": "E7QwDM7Kp4mx"
      },
      "source": [
        "path_to_sepsis3_single_stay_csv = \"/content/Sepsis_Labs_Vitals_Demographic.csv\"\n",
        "sepsis_original = pd.read_csv(path_to_sepsis3_single_stay_csv)\n",
        "path_to_sepsis3_many_stays_csv = \"/content/sepsis_labs_avg.csv\"\n",
        "path_to_vitals_stays_csv = \"/content/vitals_avg.csv\"\n",
        "sepsis_many_stays_df = pd.read_csv(path_to_sepsis3_many_stays_csv)\n",
        "vitals_df = pd.read_csv(path_to_vitals_stays_csv)\n",
        "print(sepsis_original.shape)\n",
        "print(sepsis_many_stays_df.shape)\n",
        "print(vitals_df.shape)\n",
        "sepsis_original.info()\n",
        "sepsis_original.describe()\n",
        "sepsis_many_stays_df.describe()\n",
        "sepsis_many_stays_df.info()\n",
        "\n",
        "vitals_list = []\n",
        "\n",
        "for column, _ in vitals_df.iteritems():\n",
        "  vitals_list.append(column)\n",
        "\n",
        "print(vitals_list)\n",
        "\n",
        "sepsis_lab_list = []\n",
        "\n",
        "for column, _ in sepsis_many_stays_df.iteritems():\n",
        "  sepsis_lab_list.append(column)\n",
        "\n",
        "print(sepsis_lab_list)\n",
        "\n",
        "def find_first_non_null_sepsis_lab(subject_id, stay_id, column_name):\n",
        "  modified_sepsis_lab_1 = sepsis_many_stays_df[sepsis_many_stays_df[\"subject_id\"] == subject_id]\n",
        "  modified_sepsis_lab_2 = modified_sepsis_lab_1[modified_sepsis_lab_1[\"stay_id\"] == stay_id]\n",
        "  for _, row in modified_sepsis_lab_2.iterrows():\n",
        "    if type(row[column_name+\"_avg\"]) != str and not math.isnan(row[column_name+\"_avg\"]):\n",
        "      return row[column_name+\"_avg\"]\n",
        "    else:\n",
        "      return None\n",
        "\n",
        "def find_first_non_null_vital(subject_id, stay_id, column_name):\n",
        "  modified_vitals_1 = vitals_df[vitals_df[\"subject_id\"] == subject_id]\n",
        "  modified_vitals_2 = modified_vitals_1[modified_vitals_1[\"stay_id\"] == stay_id]\n",
        "  for _, row in modified_vitals_2.iterrows():\n",
        "    if type(row[column_name+\"_avg\"]) != str and not math.isnan(row[column_name+\"_avg\"]):\n",
        "      return row[column_name+\"_avg\"]\n",
        "    else:\n",
        "      return None\n",
        "\n",
        "sepsis_non_null_df = sepsis_original.copy(deep=True)\n",
        "\n",
        "for column,_ in sepsis_original.iteritems():\n",
        "  for i,row in sepsis_original.iterrows():\n",
        "    if column+\"_avg\" in sepsis_lab_list and math.isnan(row[column]):\n",
        "      non_null_value = find_first_non_null_sepsis_lab(row[\"subject_id\"], row[\"stay_id\"], column)\n",
        "      if non_null_value is not None:\n",
        "        print(\"Supposed to be non null: \",non_null_value)\n",
        "      sepsis_non_null_df.at[i, column] = non_null_value\n",
        "    elif column+\"_avg\" in vitals_list and math.isnan(row[column]):\n",
        "      non_null_value = find_first_non_null_vital(row[\"subject_id\"], row[\"stay_id\"], column)\n",
        "      if non_null_value is not None:\n",
        "        print(\"Supposed to be non null: \",non_null_value)\n",
        "      sepsis_non_null_df.at[i, column] = non_null_value\n",
        "    else:\n",
        "      continue\n",
        "\n",
        "sepsis_non_null_df.info()\n",
        "sepsis_non_null_df.to_csv(\"/content/Sepsis_Lab_and_Vital_with_Stay_Avg.csv\")\n",
        "  \n"
      ],
      "execution_count": null,
      "outputs": []
    },
    {
      "cell_type": "code",
      "metadata": {
        "id": "6H3fMiWsqknv"
      },
      "source": [
        "path_to_csv = \"/content/Sepsis_Lab_and_Vital_with_Stay_Avg.csv\"\n",
        "updated_df = pd.read_csv(path_to_csv)\n",
        "updated_df_copy = updated_df.copy(deep=True)\n",
        "updated_df_copy_1 = updated_df_copy.fillna(value={\"pao2fio2ratio_novent\": float(np.random.normal(450,20,1)),\n",
        "                                                  \"pao2fio2ratio_vent\": float(np.random.normal(440,20,1)),\n",
        "                                                  \"rate_dobutamine\":0 ,\n",
        "                                                  \"rate_epinephrine\":0,\n",
        "                                                  \"rate_norepinephrine\":0, \n",
        "                                                  \"rate_dopamine\":0,\n",
        "                                                  \"meanbp_min\":float(np.random.normal(100,10,1) ), \n",
        "                                                  \"gcs_min\":float(np.random.normal(16,2,1)), \n",
        "                                                  \"uo_24hr\": float(np.random.normal(550,20,1))  ,\n",
        "                                                  \"bilirubin_max\":float(np.random.normal(0.8,0.1,1)) ,\n",
        "                                                  \"creatinine_max\":float(np.random.normal(0.8,0.1,1)),\n",
        "                                                  \"platelet_min\":float(np.random.normal(180,10,1)),\n",
        "                                                  \"heart_rate\":float(np.random.normal(80,10,1)), \n",
        "                                                  \"sbp\":float(np.random.normal(120,10,1)), \n",
        "                                                  \"mbp\":float(np.random.normal(100,10,1)), \n",
        "                                                  \"dbp\":float(np.random.normal(80,10,1)), \n",
        "                                                  \"sbp_ni\":float(np.random.normal(120,10,1)), \n",
        "                                                  \"mbp_ni\":float(np.random.normal(100,15,1)),\n",
        "                                                  \"dbp_ni\":float(np.random.normal(80,5,1)), \n",
        "                                                  \"temperature\":float(np.random.normal(97,3,1)),\n",
        "                                                  \"glucose\":float(np.random.normal(140,10,1)),\n",
        "                                                  \"spo2\":float(np.random.normal(95,2,1)),\n",
        "                                                  \"resp_rate\":float(np.random.normal(14,1,1)) })\n",
        "\n",
        "updated_df_copy_1.describe()\n",
        "updated_df_copy_1.to_csv(\"/content/No_NaN_Values_New.csv\")\n"
      ],
      "execution_count": null,
      "outputs": []
    }
  ]
}